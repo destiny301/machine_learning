{
 "cells": [
  {
   "cell_type": "code",
   "execution_count": 1,
   "metadata": {},
   "outputs": [],
   "source": [
    "import tensorflow as tf\n",
    "import numpy as np\n",
    "from tensorflow.keras.layers import Input, Dense, Dropout\n",
    "from tensorflow.keras import Model\n",
    "from tensorflow.keras.losses import SparseCategoricalCrossentropy\n",
    "\n",
    "from sklearn.model_selection import GridSearchCV\n",
    "from tensorflow.keras.wrappers.scikit_learn import KerasClassifier\n",
    "from tensorflow.keras import regularizers"
   ]
  },
  {
   "cell_type": "code",
   "execution_count": 2,
   "metadata": {},
   "outputs": [],
   "source": [
    "pixels = 28*28\n",
    "(xtr, ytr), (xte, yte) = tf.keras.datasets.mnist.load_data()\n",
    "\n",
    "xtr = xtr.reshape((60000, pixels)).astype(np.float32) / 255.0\n",
    "xte = xte.reshape((10000, pixels)).astype(np.float32) / 255.0\n"
   ]
  },
  {
   "cell_type": "code",
   "execution_count": 3,
   "metadata": {},
   "outputs": [],
   "source": [
    "def create_model(hidden_nodes, dropout_rate, reg_val):\n",
    "    inputs = Input(shape = (pixels,), name = 'images')\n",
    "    z = Dense(hidden_nodes, activation='relu', kernel_regularizer=regularizers.l2(reg_val), bias_regularizer=regularizers.l2(reg_val), name = 'hidden1')(inputs)\n",
    "    z = Dropout(dropout_rate)(z)\n",
    "    z = Dense(10, activation='softmax')(z)\n",
    "\n",
    "    our_model = Model(inputs = inputs, outputs = z)\n",
    "    our_model.summary()\n",
    "\n",
    "    our_model.compile(optimizer = 'adam', loss = SparseCategoricalCrossentropy(), metrics = ['accuracy'])\n",
    "    return our_model"
   ]
  },
  {
   "cell_type": "code",
   "execution_count": 4,
   "metadata": {},
   "outputs": [],
   "source": [
    "dropout_rate = [0.2, 0.3]\n",
    "hidden_nodes = [32]\n",
    "reg_val = [1e-3]\n",
    "epochs = [1, 10]\n",
    "\n",
    "params = {'hidden_nodes':hidden_nodes, 'dropout_rate': dropout_rate, 'reg_val': reg_val, 'epochs': epochs}\n",
    "model = KerasClassifier(build_fn=create_model, epochs = 10, batch_size = 32, verbose = 0)\n"
   ]
  },
  {
   "cell_type": "code",
   "execution_count": 5,
   "metadata": {},
   "outputs": [
    {
     "name": "stdout",
     "output_type": "stream",
     "text": [
      "Model: \"model\"\n",
      "_________________________________________________________________\n",
      "Layer (type)                 Output Shape              Param #   \n",
      "=================================================================\n",
      "images (InputLayer)          [(None, 784)]             0         \n",
      "_________________________________________________________________\n",
      "hidden1 (Dense)              (None, 32)                25120     \n",
      "_________________________________________________________________\n",
      "dropout (Dropout)            (None, 32)                0         \n",
      "_________________________________________________________________\n",
      "dense (Dense)                (None, 10)                330       \n",
      "=================================================================\n",
      "Total params: 25,450\n",
      "Trainable params: 25,450\n",
      "Non-trainable params: 0\n",
      "_________________________________________________________________\n",
      "best hyperparams: {'dropout_rate': 0.2, 'epochs': 10, 'hidden_nodes': 32, 'reg_val': 0.001}\n"
     ]
    }
   ],
   "source": [
    "gridCV = GridSearchCV(model, params, cv = 5, n_jobs = -1)\n",
    "gridCV.fit(xtr, ytr)\n",
    "print(\"best hyperparams:\", gridCV.best_params_)"
   ]
  },
  {
   "cell_type": "code",
   "execution_count": null,
   "metadata": {},
   "outputs": [],
   "source": []
  }
 ],
 "metadata": {
  "kernelspec": {
   "display_name": "Python 3.6.10 64-bit ('py36': conda)",
   "language": "python",
   "name": "python361064bitpy36conda4e672d6ff96844debe44d9bc86fe2211"
  },
  "language_info": {
   "codemirror_mode": {
    "name": "ipython",
    "version": 3
   },
   "file_extension": ".py",
   "mimetype": "text/x-python",
   "name": "python",
   "nbconvert_exporter": "python",
   "pygments_lexer": "ipython3",
   "version": "3.6.10"
  }
 },
 "nbformat": 4,
 "nbformat_minor": 2
}
