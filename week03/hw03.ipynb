{
  "nbformat": 4,
  "nbformat_minor": 0,
  "metadata": {
    "colab": {
      "name": "ml_week03.ipynb",
      "provenance": [],
      "collapsed_sections": []
    },
    "kernelspec": {
      "name": "python3",
      "display_name": "Python 3"
    },
    "accelerator": "TPU"
  },
  "cells": [
    {
      "cell_type": "code",
      "metadata": {
        "id": "OBygEN1H8KyD",
        "colab_type": "code",
        "colab": {}
      },
      "source": [
        "import tensorflow as tf\n",
        "from tensorflow.keras import models, layers\n",
        "import pathlib"
      ],
      "execution_count": 4,
      "outputs": []
    },
    {
      "cell_type": "code",
      "metadata": {
        "id": "rDPXCj2P8SuI",
        "colab_type": "code",
        "colab": {}
      },
      "source": [
        "folder = './244146_847361_bundle_archive'\n",
        "data_dir = pathlib.Path(folder)"
      ],
      "execution_count": 5,
      "outputs": []
    },
    {
      "cell_type": "code",
      "metadata": {
        "id": "7zGhC86M91Im",
        "colab_type": "code",
        "colab": {}
      },
      "source": [
        "from __future__ import print_function\n",
        "import os, sys\n",
        "from PIL import Image"
      ],
      "execution_count": 6,
      "outputs": []
    },
    {
      "cell_type": "code",
      "metadata": {
        "id": "P3xw-FJJ8FdK",
        "colab_type": "code",
        "colab": {}
      },
      "source": [
        "for dir in os.listdir(folder):\n",
        "  # print(dir)\n",
        "  if dir != 'README':\n",
        "    for filename in os.listdir(folder+'/'+dir):\n",
        "      # print(filename)\n",
        "      f, e = os.path.splitext(filename)\n",
        "      outfile = folder + '/' + dir + '/' + f + \".jpg\"\n",
        "      infile = folder + '/' + dir + '/' + filename\n",
        "      if infile != outfile:\n",
        "          try:\n",
        "              Image.open(infile).save(outfile)\n",
        "          except IOError:\n",
        "              print(\"cannot convert\", infile)"
      ],
      "execution_count": null,
      "outputs": []
    },
    {
      "cell_type": "code",
      "metadata": {
        "id": "Z2EVDCnu-Fgg",
        "colab_type": "code",
        "colab": {
          "base_uri": "https://localhost:8080/",
          "height": 35
        },
        "outputId": "6fc528f0-3079-4f85-ca53-854799d57b0b"
      },
      "source": [
        "image_count = len(list(data_dir.glob('*/*.jpg')))\n",
        "print(image_count)"
      ],
      "execution_count": 7,
      "outputs": [
        {
          "output_type": "stream",
          "text": [
            "400\n"
          ],
          "name": "stdout"
        }
      ]
    },
    {
      "cell_type": "code",
      "metadata": {
        "id": "lwvIz7h9-J48",
        "colab_type": "code",
        "colab": {
          "base_uri": "https://localhost:8080/",
          "height": 35
        },
        "outputId": "2f407417-ff20-44f3-a7bc-7ab933d57832"
      },
      "source": [
        "print(data_dir)"
      ],
      "execution_count": 8,
      "outputs": [
        {
          "output_type": "stream",
          "text": [
            "244146_847361_bundle_archive\n"
          ],
          "name": "stdout"
        }
      ]
    },
    {
      "cell_type": "code",
      "metadata": {
        "id": "apghV72A_BDx",
        "colab_type": "code",
        "colab": {}
      },
      "source": [
        "import PIL\n",
        "from PIL import Image\n",
        "import os"
      ],
      "execution_count": 9,
      "outputs": []
    },
    {
      "cell_type": "code",
      "metadata": {
        "id": "az7DfA2VGwG0",
        "colab_type": "code",
        "colab": {}
      },
      "source": [
        "fp = os.path.join(data_dir, 's1/2.jpg')"
      ],
      "execution_count": 10,
      "outputs": []
    },
    {
      "cell_type": "code",
      "metadata": {
        "id": "l1_P2zaNGjlr",
        "colab_type": "code",
        "colab": {
          "base_uri": "https://localhost:8080/",
          "height": 129
        },
        "outputId": "f884512d-4107-4ab0-e0fc-847d830d44f6"
      },
      "source": [
        "Image.open(fp)\n",
        "# im.show()"
      ],
      "execution_count": 11,
      "outputs": [
        {
          "output_type": "execute_result",
          "data": {
            "image/png": "[encoded data removed]",
            "text/plain": [
              "<PIL.JpegImagePlugin.JpegImageFile image mode=L size=92x112 at 0x7FE0FFAAE940>"
            ]
          },
          "metadata": {
            "tags": []
          },
          "execution_count": 11
        }
      ]
    },
    {
      "cell_type": "markdown",
      "metadata": {
        "id": "gO1OYmkx1yCv",
        "colab_type": "text"
      },
      "source": [
        "# using tf.data"
      ]
    },
    {
      "cell_type": "code",
      "metadata": {
        "id": "dBSgYYmBAyJo",
        "colab_type": "code",
        "colab": {}
      },
      "source": [
        "list_ds = tf.data.Dataset.list_files(str(data_dir/'*/*.jpg'), shuffle = True)\n",
        "list_ds = list_ds.shuffle(image_count, reshuffle_each_iteration = False)"
      ],
      "execution_count": 12,
      "outputs": []
    },
    {
      "cell_type": "code",
      "metadata": {
        "id": "TmesndK52Y-N",
        "colab_type": "code",
        "colab": {
          "base_uri": "https://localhost:8080/",
          "height": 104
        },
        "outputId": "bafbfd50-a662-4d68-f010-fbbb63a5eea8"
      },
      "source": [
        "for f in list_ds.take(5):\n",
        "  print(f.numpy())"
      ],
      "execution_count": 13,
      "outputs": [
        {
          "output_type": "stream",
          "text": [
            "b'244146_847361_bundle_archive/s25/10.jpg'\n",
            "b'244146_847361_bundle_archive/s40/6.jpg'\n",
            "b'244146_847361_bundle_archive/s33/5.jpg'\n",
            "b'244146_847361_bundle_archive/s21/5.jpg'\n",
            "b'244146_847361_bundle_archive/s28/8.jpg'\n"
          ],
          "name": "stdout"
        }
      ]
    },
    {
      "cell_type": "code",
      "metadata": {
        "id": "AmrZP0XM3Y--",
        "colab_type": "code",
        "colab": {}
      },
      "source": [
        "import numpy as np"
      ],
      "execution_count": 14,
      "outputs": []
    },
    {
      "cell_type": "code",
      "metadata": {
        "id": "0lWpYBOb2v_J",
        "colab_type": "code",
        "colab": {
          "base_uri": "https://localhost:8080/",
          "height": 87
        },
        "outputId": "c6fff0fd-29f2-489f-dd18-2847cf72ad97"
      },
      "source": [
        "class_names = np.array(sorted([item.name for item in data_dir.glob('*') if item.name != 'README']))\n",
        "print(class_names)"
      ],
      "execution_count": 15,
      "outputs": [
        {
          "output_type": "stream",
          "text": [
            "['s1' 's10' 's11' 's12' 's13' 's14' 's15' 's16' 's17' 's18' 's19' 's2'\n",
            " 's20' 's21' 's22' 's23' 's24' 's25' 's26' 's27' 's28' 's29' 's3' 's30'\n",
            " 's31' 's32' 's33' 's34' 's35' 's36' 's37' 's38' 's39' 's4' 's40' 's5'\n",
            " 's6' 's7' 's8' 's9']\n"
          ],
          "name": "stdout"
        }
      ]
    },
    {
      "cell_type": "code",
      "metadata": {
        "id": "GqqF9ADy3V2n",
        "colab_type": "code",
        "colab": {}
      },
      "source": [
        "test_size = int(image_count * 0.2)\n",
        "training_ds = list_ds.skip(test_size)\n",
        "test_ds = list_ds.take(test_size)"
      ],
      "execution_count": 16,
      "outputs": []
    },
    {
      "cell_type": "code",
      "metadata": {
        "id": "-UlU7p_KDsfu",
        "colab_type": "code",
        "colab": {}
      },
      "source": [
        "val_size = int(image_count * 0.2)\n",
        "train_ds = training_ds.skip(val_size)\n",
        "val_ds = training_ds.take(val_size)"
      ],
      "execution_count": 17,
      "outputs": []
    },
    {
      "cell_type": "code",
      "metadata": {
        "id": "VPoFSUUR3-B1",
        "colab_type": "code",
        "colab": {
          "base_uri": "https://localhost:8080/",
          "height": 69
        },
        "outputId": "743e6c6a-848c-46a4-9664-1b6beb0cfe5e"
      },
      "source": [
        "print(tf.data.experimental.cardinality(train_ds).numpy())\n",
        "print(tf.data.experimental.cardinality(val_ds).numpy())\n",
        "print(tf.data.experimental.cardinality(test_ds).numpy())"
      ],
      "execution_count": 18,
      "outputs": [
        {
          "output_type": "stream",
          "text": [
            "240\n",
            "80\n",
            "80\n"
          ],
          "name": "stdout"
        }
      ]
    },
    {
      "cell_type": "code",
      "metadata": {
        "id": "xpWY73km4IEu",
        "colab_type": "code",
        "colab": {}
      },
      "source": [
        "def get_label(fp):\n",
        "  parts = tf.strings.split(fp, os.path.sep)\n",
        "  one_hot = parts[-2]==class_names\n",
        "  return tf.argmax(one_hot)"
      ],
      "execution_count": 19,
      "outputs": []
    },
    {
      "cell_type": "code",
      "metadata": {
        "id": "3ogchxIE4pFT",
        "colab_type": "code",
        "colab": {}
      },
      "source": [
        "batch_size = 16\n",
        "img_height = 92\n",
        "img_width = 112\n",
        "def decode_img(img):\n",
        "  img = tf.image.decode_jpeg(img, channels=3)\n",
        "  return tf.image.resize(img, [img_height, img_width])"
      ],
      "execution_count": 20,
      "outputs": []
    },
    {
      "cell_type": "code",
      "metadata": {
        "id": "R2c3J3-f_U0K",
        "colab_type": "code",
        "colab": {}
      },
      "source": [
        "def process_path(fp):\n",
        "  label = get_label(fp)\n",
        "  img = tf.io.read_file(fp)\n",
        "  img = decode_img(img)\n",
        "  return img, label"
      ],
      "execution_count": 21,
      "outputs": []
    },
    {
      "cell_type": "code",
      "metadata": {
        "id": "tQ21GDv0ACmh",
        "colab_type": "code",
        "colab": {}
      },
      "source": [
        "train_ds = train_ds.map(process_path, num_parallel_calls=tf.data.experimental.AUTOTUNE)\n",
        "val_ds = val_ds.map(process_path, num_parallel_calls=tf.data.experimental.AUTOTUNE)\n",
        "test_ds = test_ds.map(process_path, num_parallel_calls=tf.data.experimental.AUTOTUNE)"
      ],
      "execution_count": 22,
      "outputs": []
    },
    {
      "cell_type": "code",
      "metadata": {
        "id": "WCXp1qSbAWMT",
        "colab_type": "code",
        "colab": {
          "base_uri": "https://localhost:8080/",
          "height": 52
        },
        "outputId": "c5401526-6cf0-414a-a63d-ae9fa0bf98b0"
      },
      "source": [
        "for img, label in train_ds.take(1):\n",
        "  print(img.numpy().shape)\n",
        "  print(label.numpy())"
      ],
      "execution_count": 23,
      "outputs": [
        {
          "output_type": "stream",
          "text": [
            "(92, 112, 3)\n",
            "15\n"
          ],
          "name": "stdout"
        }
      ]
    },
    {
      "cell_type": "code",
      "metadata": {
        "id": "Hd4fvQivAqMR",
        "colab_type": "code",
        "colab": {}
      },
      "source": [
        "def configure_for_performance(ds):\n",
        "  ds = ds.cache()\n",
        "  ds = ds.shuffle(buffer_size=100)\n",
        "  ds = ds.batch(batch_size)\n",
        "  ds = ds.prefetch(buffer_size=tf.data.experimental.AUTOTUNE)\n",
        "  return ds\n",
        "\n",
        "train_ds = configure_for_performance(train_ds)\n",
        "val_ds = configure_for_performance(val_ds)\n",
        "test_ds = configure_for_performance(test_ds)"
      ],
      "execution_count": 24,
      "outputs": []
    },
    {
      "cell_type": "code",
      "metadata": {
        "id": "P3zWnzm8BS7V",
        "colab_type": "code",
        "colab": {}
      },
      "source": [
        "model = tf.keras.Sequential([\n",
        "  layers.experimental.preprocessing.Rescaling(1./255),\n",
        "  layers.Conv2D(32, 3, activation='relu'),\n",
        "  layers.MaxPooling2D(),\n",
        "  layers.Conv2D(32, 3, activation='relu'),\n",
        "  layers.MaxPooling2D(),\n",
        "  layers.Conv2D(32, 3, activation='relu'),\n",
        "  layers.MaxPooling2D(),\n",
        "  layers.Flatten(),\n",
        "  layers.Dense(128, activation='relu'),\n",
        "  layers.Dense(40)\n",
        "])"
      ],
      "execution_count": 25,
      "outputs": []
    },
    {
      "cell_type": "code",
      "metadata": {
        "id": "GqQrPY4IBiAF",
        "colab_type": "code",
        "colab": {}
      },
      "source": [
        "model.compile(\n",
        "  optimizer='adam',\n",
        "  loss=tf.losses.SparseCategoricalCrossentropy(from_logits=True),\n",
        "  metrics=['accuracy'])"
      ],
      "execution_count": 26,
      "outputs": []
    },
    {
      "cell_type": "code",
      "metadata": {
        "id": "_YKamx_tBwK0",
        "colab_type": "code",
        "colab": {
          "base_uri": "https://localhost:8080/",
          "height": 555
        },
        "outputId": "14ae349e-bb53-479e-c02b-84fb9663bc56"
      },
      "source": [
        "model.fit(\n",
        "  train_ds,\n",
        "  validation_data=val_ds,\n",
        "  epochs=15\n",
        ")"
      ],
      "execution_count": 27,
      "outputs": [
        {
          "output_type": "stream",
          "text": [
            "Epoch 1/15\n",
            "15/15 [==============================] - 4s 261ms/step - loss: 3.7220 - accuracy: 0.0250 - val_loss: 3.6833 - val_accuracy: 0.0500\n",
            "Epoch 2/15\n",
            "15/15 [==============================] - 3s 180ms/step - loss: 3.6833 - accuracy: 0.0375 - val_loss: 3.6751 - val_accuracy: 0.0875\n",
            "Epoch 3/15\n",
            "15/15 [==============================] - 3s 180ms/step - loss: 3.6602 - accuracy: 0.0542 - val_loss: 3.6588 - val_accuracy: 0.0375\n",
            "Epoch 4/15\n",
            "15/15 [==============================] - 3s 183ms/step - loss: 3.5906 - accuracy: 0.0542 - val_loss: 3.5472 - val_accuracy: 0.1875\n",
            "Epoch 5/15\n",
            "15/15 [==============================] - 3s 182ms/step - loss: 3.3514 - accuracy: 0.2042 - val_loss: 3.0797 - val_accuracy: 0.3000\n",
            "Epoch 6/15\n",
            "15/15 [==============================] - 3s 183ms/step - loss: 2.6463 - accuracy: 0.3542 - val_loss: 2.3865 - val_accuracy: 0.4250\n",
            "Epoch 7/15\n",
            "15/15 [==============================] - 3s 184ms/step - loss: 1.5838 - accuracy: 0.6750 - val_loss: 1.4217 - val_accuracy: 0.6625\n",
            "Epoch 8/15\n",
            "15/15 [==============================] - 3s 182ms/step - loss: 0.7739 - accuracy: 0.8000 - val_loss: 0.5638 - val_accuracy: 0.9000\n",
            "Epoch 9/15\n",
            "15/15 [==============================] - 3s 183ms/step - loss: 0.3200 - accuracy: 0.9083 - val_loss: 0.4679 - val_accuracy: 0.8750\n",
            "Epoch 10/15\n",
            "15/15 [==============================] - 3s 183ms/step - loss: 0.1115 - accuracy: 0.9833 - val_loss: 0.2909 - val_accuracy: 0.9500\n",
            "Epoch 11/15\n",
            "15/15 [==============================] - 3s 184ms/step - loss: 0.0380 - accuracy: 0.9958 - val_loss: 0.2099 - val_accuracy: 0.9625\n",
            "Epoch 12/15\n",
            "15/15 [==============================] - 3s 182ms/step - loss: 0.0143 - accuracy: 1.0000 - val_loss: 0.1694 - val_accuracy: 0.9750\n",
            "Epoch 13/15\n",
            "15/15 [==============================] - 3s 181ms/step - loss: 0.0077 - accuracy: 1.0000 - val_loss: 0.2552 - val_accuracy: 0.9500\n",
            "Epoch 14/15\n",
            "15/15 [==============================] - 3s 183ms/step - loss: 0.0032 - accuracy: 1.0000 - val_loss: 0.1733 - val_accuracy: 0.9750\n",
            "Epoch 15/15\n",
            "15/15 [==============================] - 3s 184ms/step - loss: 0.0020 - accuracy: 1.0000 - val_loss: 0.1779 - val_accuracy: 0.9750\n"
          ],
          "name": "stdout"
        },
        {
          "output_type": "execute_result",
          "data": {
            "text/plain": [
              "<tensorflow.python.keras.callbacks.History at 0x7fe0f9c24e80>"
            ]
          },
          "metadata": {
            "tags": []
          },
          "execution_count": 27
        }
      ]
    },
    {
      "cell_type": "code",
      "metadata": {
        "id": "xPVjd-s6BzuT",
        "colab_type": "code",
        "colab": {
          "base_uri": "https://localhost:8080/",
          "height": 52
        },
        "outputId": "2f42328a-7f18-4e8d-f5e4-c405464baefb"
      },
      "source": [
        "loss, acc = model.evaluate(test_ds)\n",
        "print(\"test accuracy:\", acc)"
      ],
      "execution_count": 28,
      "outputs": [
        {
          "output_type": "stream",
          "text": [
            "5/5 [==============================] - 0s 45ms/step - loss: 0.2406 - accuracy: 0.9500\n",
            "test accuracy: 0.949999988079071\n"
          ],
          "name": "stdout"
        }
      ]
    },
    {
      "cell_type": "code",
      "metadata": {
        "id": "nMzh9pNgFVsA",
        "colab_type": "code",
        "colab": {}
      },
      "source": [
        ""
      ],
      "execution_count": null,
      "outputs": []
    }
  ]
}