{
 "cells": [
  {
   "cell_type": "code",
   "execution_count": 1,
   "metadata": {},
   "outputs": [],
   "source": [
    "import tensorflow as tf\n",
    "import numpy as np\n",
    "from tensorflow.keras.layers import Input, Dense, Dropout\n",
    "from tensorflow.keras import Model\n",
    "from tensorflow.keras.losses import SparseCategoricalCrossentropy\n",
    "\n",
    "from sklearn.model_selection import GridSearchCV\n",
    "from tensorflow.keras.wrappers.scikit_learn import KerasClassifier\n"
   ]
  },
  {
   "cell_type": "code",
   "execution_count": 2,
   "metadata": {},
   "outputs": [],
   "source": [
    "\n",
    "pixels = 28*28\n",
    "(xtr, ytr), (xte, yte) = tf.keras.datasets.mnist.load_data()\n",
    "\n",
    "xtr = xtr.reshape((60000, pixels)).astype(np.float32) / 255.0\n",
    "xte = xte.reshape((10000, pixels)).astype(np.float32) / 255.0\n"
   ]
  },
  {
   "cell_type": "code",
   "execution_count": 3,
   "metadata": {},
   "outputs": [],
   "source": [
    "\n",
    "def create_model(hidden_nodes, dropout):\n",
    "    inputs = Input(shape = (pixels,), name = 'images')\n",
    "    z = Dense(hidden_nodes, activation='relu', name = 'hidden1')(inputs)\n",
    "    z = Dropout(dropout)(z)\n",
    "    z = Dense(10, activation='softmax')(z)\n",
    "\n",
    "    our_model = Model(inputs = inputs, outputs = z)\n",
    "    our_model.summary()\n",
    "\n",
    "    our_model.compile(optimizer = 'adam', loss = SparseCategoricalCrossentropy(), metrics = ['accuracy'])\n",
    "    return our_model\n",
    "\n"
   ]
  },
  {
   "cell_type": "code",
   "execution_count": null,
   "metadata": {},
   "outputs": [],
   "source": [
    "dropout = [0.2, 0.3]\n",
    "hidden_nodes = [16, 32]\n",
    "\n",
    "params = {'dropout': dropout, 'hidden_nodes':hidden_nodes}\n",
    "model = KerasClassifier(build_fn=create_model, epochs = 10, batch_size = 32, verbose = 0)\n",
    "\n",
    "gridCV = GridSearchCV(model, params, cv = 5, n_jobs = -1)\n",
    "gridCV.fit(xtr, ytr)\n",
    "print(\"best hyperparams:\", gridCV.best_params_)"
   ]
  },
  {
   "cell_type": "code",
   "execution_count": null,
   "metadata": {},
   "outputs": [],
   "source": []
  }
 ],
 "metadata": {
  "kernelspec": {
   "display_name": "Python 3.6.10 64-bit ('py36': conda)",
   "language": "python",
   "name": "python361064bitpy36conda4e672d6ff96844debe44d9bc86fe2211"
  },
  "language_info": {
   "codemirror_mode": {
    "name": "ipython",
    "version": 3
   },
   "file_extension": ".py",
   "mimetype": "text/x-python",
   "name": "python",
   "nbconvert_exporter": "python",
   "pygments_lexer": "ipython3",
   "version": "3.6.10"
  }
 },
 "nbformat": 4,
 "nbformat_minor": 2
}
